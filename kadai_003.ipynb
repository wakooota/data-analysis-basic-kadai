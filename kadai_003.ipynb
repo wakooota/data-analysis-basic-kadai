{
  "nbformat": 4,
  "nbformat_minor": 0,
  "metadata": {
    "colab": {
      "provenance": []
    },
    "kernelspec": {
      "name": "python3",
      "display_name": "Python 3"
    },
    "language_info": {
      "name": "python"
    }
  },
  "cells": [
    {
      "cell_type": "code",
      "source": [
        "#NumPyをインポート\n",
        "import numpy as np\n",
        "\n",
        "#「多次元配列」を書く\n",
        "A = np.array([[0, 1], [2, 3], [4, 5]])\n",
        "B = np.array([[0, 1, 2, 3], [4, 5, 6, 7]])\n",
        "\n",
        "#行列演算（積の計算）\n",
        "np.dot(A, B)\n",
        "print(np.dot(A, B))\n",
        "\n",
        "#配列の操作(計算された行列の要素の最大値を求めて表示する)\n",
        "np.dot(A, B).max()"
      ],
      "metadata": {
        "colab": {
          "base_uri": "https://localhost:8080/"
        },
        "id": "r5YVEJvDGEpo",
        "outputId": "da6e4f3b-7674-441b-be29-c9e14895d3d6"
      },
      "execution_count": 20,
      "outputs": [
        {
          "output_type": "stream",
          "name": "stdout",
          "text": [
            "[[ 4  5  6  7]\n",
            " [12 17 22 27]\n",
            " [20 29 38 47]]\n"
          ]
        },
        {
          "output_type": "execute_result",
          "data": {
            "text/plain": [
              "47"
            ]
          },
          "metadata": {},
          "execution_count": 20
        }
      ]
    }
  ]
}