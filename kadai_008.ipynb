{
  "nbformat": 4,
  "nbformat_minor": 0,
  "metadata": {
    "colab": {
      "provenance": [],
      "authorship_tag": "ABX9TyPDXLyVuC96l9POI+zd45Gq",
      "include_colab_link": true
    },
    "kernelspec": {
      "name": "python3",
      "display_name": "Python 3"
    },
    "language_info": {
      "name": "python"
    }
  },
  "cells": [
    {
      "cell_type": "markdown",
      "metadata": {
        "id": "view-in-github",
        "colab_type": "text"
      },
      "source": [
        "<a href=\"https://colab.research.google.com/github/wakooota/data-analysis-basic-kadai/blob/main/kadai_008.ipynb\" target=\"_parent\"><img src=\"https://colab.research.google.com/assets/colab-badge.svg\" alt=\"Open In Colab\"/></a>"
      ]
    },
    {
      "cell_type": "code",
      "execution_count": 31,
      "metadata": {
        "colab": {
          "base_uri": "https://localhost:8080/"
        },
        "id": "FBGIIz9acho8",
        "outputId": "7acb5175-eb41-4de8-f306-4785c4d1c4d1"
      },
      "outputs": [
        {
          "output_type": "stream",
          "name": "stdout",
          "text": [
            "(178, 13) (124, 13) (54, 13) (178,) (124,) (54,)\n"
          ]
        },
        {
          "output_type": "execute_result",
          "data": {
            "text/plain": [
              "0.9629629629629629"
            ]
          },
          "metadata": {},
          "execution_count": 31
        }
      ],
      "source": [
        "import pandas as pd\n",
        "\n",
        "from sklearn.datasets import load_wine\n",
        "dataset = load_wine()\n",
        "\n",
        "#DataFrameのdataにワインの成分（dataset.data）を、columnsに要素名（dataset.feature_names）をセットして、DataFrameを生成\n",
        "df = pd.DataFrame(data=dataset.data, columns=dataset.feature_names)\n",
        "df['category'] = dataset.target\n",
        "\n",
        "#Xとyを定義　X=ワインの成分、y=ワインの種別\n",
        "X = dataset.data\n",
        "y = dataset.target\n",
        "\n",
        "#model_selectionモジュールのtrain_test_split関数を実行\n",
        "from sklearn.model_selection import train_test_split\n",
        "\n",
        "#サンプルデータの分割\n",
        "X_train, X_test, y_train, y_test = train_test_split(X, y, test_size=0.3, random_state=5)\n",
        "print(X.shape, X_train.shape, X_test.shape, y.shape, y_train.shape, y_test.shape)\n",
        "\n",
        "#予測モデルのインスタンス化(ランダムフォレスト)\n",
        "from sklearn.ensemble import RandomForestClassifier\n",
        "model = RandomForestClassifier(random_state=3)\n",
        "\n",
        "#予測モデルの学習\n",
        "model.fit(X_train, y_train)\n",
        "\n",
        "#y_predを算出\n",
        "y_pred = model.predict(X_test)\n",
        "\n",
        "#予測モデルの評価\n",
        "from sklearn.metrics import accuracy_score\n",
        "accuracy_score(y_test, y_pred)\n",
        "\n",
        "\n"
      ]
    },
    {
      "cell_type": "code",
      "source": [],
      "metadata": {
        "id": "Zc-pNZj_dT9k"
      },
      "execution_count": null,
      "outputs": []
    }
  ]
}